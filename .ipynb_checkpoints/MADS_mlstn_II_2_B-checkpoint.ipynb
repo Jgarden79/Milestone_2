{
 "cells": [
  {
   "cell_type": "code",
   "execution_count": 1,
   "metadata": {},
   "outputs": [
    {
     "data": {
      "text/html": [
       "        <script type=\"text/javascript\">\n",
       "        window.PlotlyConfig = {MathJaxConfig: 'local'};\n",
       "        if (window.MathJax) {MathJax.Hub.Config({SVG: {font: \"STIX-Web\"}});}\n",
       "        if (typeof require !== 'undefined') {\n",
       "        require.undef(\"plotly\");\n",
       "        requirejs.config({\n",
       "            paths: {\n",
       "                'plotly': ['https://cdn.plot.ly/plotly-latest.min']\n",
       "            }\n",
       "        });\n",
       "        require(['plotly'], function(Plotly) {\n",
       "            window._Plotly = Plotly;\n",
       "        });\n",
       "        }\n",
       "        </script>\n",
       "        "
      ]
     },
     "metadata": {},
     "output_type": "display_data"
    },
    {
     "data": {
      "text/html": [
       "        <script type=\"text/javascript\">\n",
       "        window.PlotlyConfig = {MathJaxConfig: 'local'};\n",
       "        if (window.MathJax) {MathJax.Hub.Config({SVG: {font: \"STIX-Web\"}});}\n",
       "        if (typeof require !== 'undefined') {\n",
       "        require.undef(\"plotly\");\n",
       "        requirejs.config({\n",
       "            paths: {\n",
       "                'plotly': ['https://cdn.plot.ly/plotly-latest.min']\n",
       "            }\n",
       "        });\n",
       "        require(['plotly'], function(Plotly) {\n",
       "            window._Plotly = Plotly;\n",
       "        });\n",
       "        }\n",
       "        </script>\n",
       "        "
      ]
     },
     "metadata": {},
     "output_type": "display_data"
    }
   ],
   "source": [
    "import pandas as pd\n",
    "import numpy as np\n",
    "import eikon as ek\n",
    "import sys\n",
    "import config\n",
    "ek.set_app_key(config.eikon_key)\n",
    "#import DatastreamDSWS as DSWS\n",
    "#ds = DSWS.Datastream(username = 'JGarden1@lidoadvisors.com', password= 'Welcome2')\n",
    "from datetime import timedelta\n",
    "import datetime\n",
    "\n",
    "from scipy.optimize import minimize\n",
    "from arch import arch_model\n",
    "\n",
    "from tqdm import tqdm\n",
    "TOLERANCE = 1e-15\n",
    "import warnings\n",
    "warnings.filterwarnings(\"ignore\")\n",
    "import cufflinks as cf\n",
    "import configparser as cp\n",
    "cf.set_config_file(offline = True)\n",
    "\n",
    "\n",
    "#import warnings\n",
    "#warnings.simplefilter(action='ignore', category=FutureWarning)\n",
    "#from scipy.optimize import OptimizeWarning\n",
    "#warnings.simplefilter(action='ignore', category=OptimizeWarning)\n",
    "\n",
    "from sklearn.model_selection import train_test_split\n",
    "from sklearn.decomposition import PCA\n",
    "from sklearn.cluster import KMeans\n",
    "import matplotlib.pyplot as plt\n",
    "import plotly.express as px\n",
    "import plotly.graph_objects as go\n",
    "import chart_studio\n",
    "from chart_studio.plotly import plot, iplot\n",
    "import chart_studio.plotly as py\n",
    "from PIL import Image as im\n",
    "#import Lido_funcs3 as lf\n",
    "import time\n",
    "from sklearn.linear_model import LinearRegression\n",
    "\n",
    "import IPython.display\n",
    "from IPython.display import Image\n",
    "\n",
    "import chart_studio.tools as tls\n",
    "\n",
    "import plotly.io as pio\n",
    "\n",
    "import plotly.figure_factory as ff\n",
    "\n",
    "from plotly.subplots import make_subplots\n",
    "import scipy.stats as st\n",
    "from tqdm import tqdm\n",
    "import random\n",
    "\n",
    "from sklearn.preprocessing import RobustScaler, MinMaxScaler\n",
    "from scipy.stats.mstats import winsorize\n",
    "from scipy import stats\n",
    "ek.set_timeout(60)\n",
    "\n",
    "from sklearn.cluster import DBSCAN\n",
    "from sklearn.cluster import AgglomerativeClustering"
   ]
  },
  {
   "cell_type": "code",
   "execution_count": 2,
   "metadata": {},
   "outputs": [],
   "source": [
    "def win_df(df):\n",
    "    return df.apply(using_mstats, axis=0)\n",
    "\n",
    "def using_mstats(s):\n",
    "    return winsorize(s, limits=[0.05, 0.2])"
   ]
  },
  {
   "cell_type": "code",
   "execution_count": 3,
   "metadata": {},
   "outputs": [],
   "source": [
    "###This cell sets up a list that contains dates used to call needed data from the API\n",
    "\n",
    "\n",
    "mar = []\n",
    "jun = []\n",
    "sept = []\n",
    "dec = []\n",
    "\n",
    "for i in range(2015, 2021):\n",
    "    dt_3 = datetime.date(i, 3, 15)\n",
    "    if dt_3.isoweekday() == 6:\n",
    "        dt_3 = datetime.date(i, 3, 17)\n",
    "    elif dt_3.isoweekday() == 7:\n",
    "        dt_3 = datetime.date(i, 3, 16)\n",
    "    st_dt_3 = dt_3.strftime(\"%Y-%m-%d\")\n",
    "    mar.append(st_dt_3)\n",
    "    dt_6 = datetime.date(i, 6, 15)\n",
    "    if dt_6.isoweekday() == 6:\n",
    "        dt_6 = datetime.date(i, 6, 17)\n",
    "    elif dt_6.isoweekday() == 7:\n",
    "        dt_6 = datetime.date(i, 6, 16)\n",
    "    st_dt_6 = dt_6.strftime(\"%Y-%m-%d\")\n",
    "    jun.append(st_dt_6)\n",
    "    dt_9 = datetime.date(i, 9, 15)\n",
    "    if dt_9.isoweekday() == 6:\n",
    "        dt_9 = datetime.date(i, 9, 17)\n",
    "    elif dt_9.isoweekday() == 7:\n",
    "        dt_9 = datetime.date(i, 9, 16)\n",
    "    st_dt_9 = dt_9.strftime(\"%Y-%m-%d\")\n",
    "    sept.append(st_dt_9)\n",
    "    dt_12 = datetime.date(i, 12, 15)\n",
    "    if dt_12.isoweekday() == 6:\n",
    "        dt_12 = datetime.date(i, 12, 17)\n",
    "    elif dt_12.isoweekday() == 7:\n",
    "        dt_12 = datetime.date(i, 12, 16)\n",
    "    st_dt_12 = dt_12.strftime(\"%Y-%m-%d\")\n",
    "    dec.append(st_dt_12)\n",
    "    \n",
    "\n",
    "dates = []\n",
    "for i in range(0, len(mar)):\n",
    "    dates.append(mar[i])\n",
    "    dates.append(jun[i])\n",
    "    dates.append(sept[i])\n",
    "    dates.append(dec[i])"
   ]
  },
  {
   "cell_type": "code",
   "execution_count": 4,
   "metadata": {},
   "outputs": [],
   "source": [
    "def get_SP5X_stocks():\n",
    "    '''This function imports the Symbols (RICS) for all stocks in the SPDR S&P 500 Deposetory recipt ETF do not run w/o a subscription to refinitive.'''\n",
    "    hold = ek.get_data('SPY', fields = [ek.TR_Field('TR.ETPConstituentRIC',params={'SDate':'2021-01-07'})])[0]\n",
    "    hold = hold[hold['Constituent RIC'] != 'GOOG.OQ']\n",
    "    rics = [x for x in hold['Constituent RIC']]\n",
    "    if 'GOOG.OQ' in rics == True:\n",
    "        rics.remove('GOOG.OQ')\n",
    "    return rics\n",
    "    \n",
    "    "
   ]
  },
  {
   "cell_type": "code",
   "execution_count": 5,
   "metadata": {},
   "outputs": [],
   "source": [
    "def API_req(spx, date):\n",
    "    '''This function calls all the features for each stock at a given date, do not run w/o a subscription to refinitive. '''\n",
    "    valuation_fields = [ek.TR_Field('TR.GICSSector'),ek.TR_Field('TR.NetProfitMean', params={'Period':'FY2', 'SDate': date}), ek.TR_Field('TR.EBITDAReportedMean',  params={'Period':'FY2', 'SDate': date}),\n",
    "                        ek.TR_Field('TR.EBITMean', params = {'Period':'FY2', 'SDate': date}), ek.TR_Field('TR.TotalEquity', params = {'Period':'FY0','SDate': date}),\n",
    "                        ek.TR_Field('TR.CompanyMarketCap', params = {'SDate': date}), ek.TR_Field('TR.EV', params = {'SDate': date})]\n",
    "    valuation_dat = ek.get_data(spx, fields=valuation_fields)[0]\n",
    "    valuation_dat.to_csv('SPX_VALUATION_{}.csv'.format(date))\n",
    "    time.sleep(10)\n",
    "        \n",
    "    fundam_fields = [ek.TR_Field('TR.GICSSector'), ek.TR_Field('TR.ROICMean', params={'Period':'FY2', 'SDate': date}), ek.TR_Field('TR.WACC'), ek.TR_Field('TR.ROEMean',params={'Period':'FY2', 'SDate': date}),\n",
    "                 ek.TR_Field('TR.WACCCostofEquity', params={'SDate': date}), ek.TR_Field('TR.LTGMean', params={'SDate': date}), ek.TR_Field('TR.TtlDebtToTtlCapitalPct', params={'Period':'FY0', 'SDate': date})]\n",
    "    fundamental_dat = ek.get_data(spx, fields=fundam_fields)[0] \n",
    "    fundamental_dat.to_csv('SPX_FUNDAM_{}.csv'.format(date))\n",
    "    time.sleep(10)\n",
    "    mom_fields = [ek.TR_Field('TR.GICSSector'), ek.TR_Field('TR.TotalReturn3Mo', params={'SDate': date}), ek.TR_Field('TR.TotalReturn6Mo', params={'SDate': date}), \n",
    "                  ek.TR_Field('TR.TotalReturn52Wk', params={'SDate': date}), ek.TR_Field('TR.WACCBeta',params={'SDate': date})]\n",
    "    momentum = ek.get_data(spx, fields=mom_fields)[0]\n",
    "    spy_rets = ek.get_data('SPY', fields=mom_fields)[0]\n",
    "    momentum.to_csv('SPX_MOM_{}.csv'.format(date))\n",
    "    spy_rets.to_csv('INDEX_MOM_{}.csv'.format(date))\n",
    "    \n",
    "    return (valuation_dat, fundamental_dat, mom_fields, spy_rets)\n",
    "        \n",
    "        \n",
    "    "
   ]
  },
  {
   "cell_type": "code",
   "execution_count": 6,
   "metadata": {},
   "outputs": [],
   "source": [
    "def import_stock_dat(dates):\n",
    "    '''This function creates the dataset needed for the the rest of the project, do not run with out a Refinitive eikon subscription and takes about 30 Min '''\n",
    "    spx = get_SP5X_stocks()\n",
    "    for date in dates:\n",
    "        API_req(spx, date)\n",
    "        time.sleep(5)\n",
    "    return spx\n",
    "    "
   ]
  },
  {
   "cell_type": "code",
   "execution_count": 7,
   "metadata": {},
   "outputs": [],
   "source": [
    "#spx = import_stock_dat(['2020-03-16'])"
   ]
  },
  {
   "cell_type": "code",
   "execution_count": null,
   "metadata": {},
   "outputs": [],
   "source": []
  },
  {
   "cell_type": "code",
   "execution_count": 8,
   "metadata": {},
   "outputs": [],
   "source": [
    "def valuation_dat(date):\n",
    "    valuation_dat = pd.read_csv('SPX_VALUATION_{}.csv'.format(date))\n",
    "    valuation_dat['Earnings_Yield'] = valuation_dat['Net Income - Mean']/valuation_dat['Company Market Cap']\n",
    "    valuation_dat['Book_Market'] = valuation_dat['Total Equity']/valuation_dat['Company Market Cap']\n",
    "    valuation_dat['EBITDA_EV'] = valuation_dat['EBITDA Reported - Mean']/valuation_dat['Enterprise Value (Daily Time Series)']\n",
    "    valuation_dat['EBIT_EV'] = valuation_dat['EBIT - Mean']/valuation_dat['Enterprise Value (Daily Time Series)']\n",
    "    \n",
    "    sectors = list(valuation_dat['GICS Sector Name'].drop_duplicates())\n",
    "    \n",
    "    valuation = pd.DataFrame()\n",
    "    for s in sectors:\n",
    "        x =  valuation_dat[valuation_dat['GICS Sector Name']==s]\n",
    "        meds = x.median()\n",
    "        x = x.fillna(meds)\n",
    "        valuation = pd.concat([valuation, x])\n",
    "    \n",
    "    \n",
    "    valuation[['Earnings_Yield', 'Book_Market', 'EBITDA_EV', 'EBIT_EV']] = win_df(valuation[['Earnings_Yield', 'Book_Market', 'EBITDA_EV', 'EBIT_EV']])\n",
    "    \n",
    "    valuation_dat_mkt = valuation\n",
    "    valuation_dat_mkt = valuation_dat.filter(['Instrument', 'GICS Sector Name', 'Earnings_Yield', 'Book_Market', 'EBITDA_EV', 'EBIT_EV'])\n",
    "    min_max = MinMaxScaler()\n",
    "    valuation_dat_mkt[['Earnings_Yield', 'Book_Market', 'EBITDA_EV', 'EBIT_EV']] = min_max.fit_transform(valuation_dat_mkt[['Earnings_Yield', 'Book_Market', 'EBITDA_EV', 'EBIT_EV']])\n",
    "    valuation_dat_mkt['Valuation Composite'] = valuation_dat_mkt.mean(axis = 1)\n",
    "    valuation_dat_mkt[['Valuation Composite']] = min_max.fit_transform(valuation_dat_mkt[['Valuation Composite']])\n",
    "    val_comp = valuation_dat_mkt['Valuation Composite']\n",
    "    valuation_dat_mkt = valuation_dat_mkt.drop('Valuation Composite', axis = 1)\n",
    "    \n",
    "    return valuation_dat_mkt, val_comp\n",
    "    \n",
    "    "
   ]
  },
  {
   "cell_type": "code",
   "execution_count": 9,
   "metadata": {},
   "outputs": [],
   "source": [
    "def fundamental_dat(date):\n",
    "    fundamental_dat = pd.read_csv('SPX_FUNDAM_{}.csv'.format(date))\n",
    "    fundamental_1 = fundamental_dat[fundamental_dat['Return On Invested Capital - Mean'].isnull()]\n",
    "    fundamental_1['Spread'] = fundamental_1['Return On Equity - Mean'] - fundamental_1['WACC Cost of Equity, (%)']\n",
    "    fundamental_2 = fundamental_dat[fundamental_dat['Return On Invested Capital - Mean'].notnull()]\n",
    "    fundamental_2['Spread'] = fundamental_2['Return On Invested Capital - Mean'] - fundamental_2['Weighted Average Cost of Capital, (%)']\n",
    "    fundamental_score = pd.concat([fundamental_2, fundamental_1])\n",
    "    fundamental_score['Equity To Total Cap'] = 100 - fundamental_score['Total Debt to Total Capital, Percent']\n",
    "    \n",
    "    sectors = list(fundamental_score['GICS Sector Name'].drop_duplicates())\n",
    "    \n",
    "    fund_df= pd.DataFrame()\n",
    "    for s in sectors:\n",
    "        x =  fundamental_score[fundamental_score['GICS Sector Name']==s]\n",
    "        meds = x.median()\n",
    "        x = x.fillna(meds)\n",
    "        fund_df= pd.concat([fund_df, x])\n",
    "    \n",
    "    fund_df[['Return On Invested Capital - Mean', 'Weighted Average Cost of Capital, (%)', 'Return On Equity - Mean', \n",
    "                       'WACC Cost of Equity, (%)', 'Long Term Growth - Mean', 'Total Debt to Total Capital, Percent', 'Spread', \n",
    "                       'Equity To Total Cap']] = win_df(fund_df[['Return On Invested Capital - Mean', 'Weighted Average Cost of Capital, (%)', 'Return On Equity - Mean', \n",
    "                       'WACC Cost of Equity, (%)', 'Long Term Growth - Mean', 'Total Debt to Total Capital, Percent', 'Spread', \n",
    "                       'Equity To Total Cap']])\n",
    "    \n",
    "    min_max = MinMaxScaler()\n",
    "    fund_df[['Return On Invested Capital - Mean', 'Weighted Average Cost of Capital, (%)', 'Return On Equity - Mean', \n",
    "                       'WACC Cost of Equity, (%)', 'Long Term Growth - Mean', 'Total Debt to Total Capital, Percent', 'Spread', \n",
    "                       'Equity To Total Cap']] = min_max.fit_transform(fund_df[['Return On Invested Capital - Mean', 'Weighted Average Cost of Capital, (%)', 'Return On Equity - Mean', \n",
    "                       'WACC Cost of Equity, (%)', 'Long Term Growth - Mean', 'Total Debt to Total Capital, Percent', 'Spread', \n",
    "                       'Equity To Total Cap']])\n",
    "\n",
    "        \n",
    "    \n",
    "    fund_df['FUND_Composite'] = fund_df[['Spread', 'Long Term Growth - Mean', 'Equity To Total Cap']].sum(axis = 1)\n",
    "    min_max = MinMaxScaler()\n",
    "    fund_df[['FUND_Composite']]  = min_max.fit_transform(fund_df[['FUND_Composite']])\n",
    "    fund_comp = fund_df[['FUND_Composite']] \n",
    "    fundamental_score = fund_df.drop('FUND_Composite', axis = 1)\n",
    "    \n",
    "    return fundamental_score, fund_comp\n",
    "    "
   ]
  },
  {
   "cell_type": "code",
   "execution_count": 10,
   "metadata": {},
   "outputs": [],
   "source": [
    "def momentum_dat(date):\n",
    "    \n",
    "    momentum = pd.read_csv('SPX_MOM_{}.csv'.format(date))\n",
    "    spy_rets = pd.read_csv('INDEX_MOM_{}.csv'.format(date))\n",
    "    mom_1 = momentum[momentum['Beta'].notnull()]\n",
    "    mom_2 = momentum[momentum['Beta'].isnull()]\n",
    "    mom_1['3_month'] = mom_1['3 Month Total Return'] - (spy_rets['3 Month Total Return'].iloc[0] * mom_1['Beta'])\n",
    "    mom_1['6_month'] = mom_1['6 Month Total Return'] - (spy_rets['6 Month Total Return'].iloc[0] * mom_1['Beta'])\n",
    "    mom_1['12_month'] = mom_1['52 Week Total Return'] - (spy_rets['52 Week Total Return'].iloc[0] * mom_1['Beta'])\n",
    "    mom_2['3_month'] = mom_2['3 Month Total Return'] - spy_rets['3 Month Total Return'].iloc[0]\n",
    "    mom_2['6_month'] = mom_2['6 Month Total Return'] - spy_rets['6 Month Total Return'].iloc[0]\n",
    "    mom_2['12_month'] = mom_2['52 Week Total Return'] - spy_rets['52 Week Total Return'].iloc[0]    \n",
    "    momentum = pd.concat([mom_1, mom_2])\n",
    "    momentum = momentum.filter(['Instrument', 'GICS Sector Name', '3_month', '6_month', '12_month'])\n",
    "    \n",
    "    sectors = list(momentum['GICS Sector Name'].drop_duplicates())\n",
    "    \n",
    "    mom_df= pd.DataFrame()\n",
    "    for s in sectors:\n",
    "        x =  momentum[momentum['GICS Sector Name']==s]\n",
    "        meds = x.median()\n",
    "        x = x.fillna(meds)\n",
    "        mom_df= pd.concat([mom_df, x])\n",
    "        \n",
    "    mom_df[['3_month', '6_month', '12_month']] = win_df(mom_df[['3_month', '6_month', '12_month']])\n",
    "    \n",
    "    momentum = mom_df\n",
    "    min_max = MinMaxScaler()  \n",
    "    momentum[['3_month', '6_month', '12_month']] = min_max.fit_transform(momentum[['3_month', '6_month', '12_month']])\n",
    "    momentum['MOM_Composite'] = momentum.sum(axis = 1)\n",
    "    min_max = MinMaxScaler()    \n",
    "    momentum[['MOM_Composite']]= min_max.fit_transform(momentum[['MOM_Composite']])\n",
    "    mom_comp = momentum['MOM_Composite']\n",
    "    momentum = momentum.drop('MOM_Composite', axis = 1)\n",
    "    \n",
    "    return momentum, mom_comp\n",
    "    \n",
    "    "
   ]
  },
  {
   "cell_type": "code",
   "execution_count": 11,
   "metadata": {},
   "outputs": [],
   "source": [
    "def feature_prep(date):\n",
    "    val, val_comp = valuation_dat(date)\n",
    "    fund, fund_comp = fundamental_dat(date)\n",
    "    mom, mom_comp = momentum_dat(date)\n",
    "    val = val.set_index('Instrument')\n",
    "    fund = fund.set_index('Instrument')\n",
    "    mom = mom.set_index('Instrument')\n",
    "    \n",
    "    fund = fund.filter(['Return On Invested Capital - Mean', 'Long Term Growth - Mean','Spread',])\n",
    "    mom = mom.filter(['3_month', '6_month', '12_month'])\n",
    "    val = val.join(fund, on  = 'Instrument')\n",
    "    val = val.join(mom, on  = 'Instrument')\n",
    "    sectors = list(val['GICS Sector Name'].drop_duplicates())\n",
    "    \n",
    "    features = pd.DataFrame()\n",
    "    for s in sectors:\n",
    "        x = val[val['GICS Sector Name']==s]\n",
    "        meds = x.median()\n",
    "        x = x.fillna(meds)\n",
    "        features = pd.concat([features, x])\n",
    "        \n",
    "    features = features.fillna(0)\n",
    "    features = features.drop('GICS Sector Name', axis = 1)\n",
    "\n",
    "\n",
    "    \n",
    "    #comps = val_comp.to_frame(name = 'Value')\n",
    "    #comps = comps.join(mom_comp)\n",
    "    #comps = comps.join(fund_comp)\n",
    "    #comps['Instrument'] = list(features.index)\n",
    "    \n",
    "    return features\n",
    "    "
   ]
  },
  {
   "cell_type": "code",
   "execution_count": 12,
   "metadata": {},
   "outputs": [],
   "source": [
    "\n",
    "def Kmeans(date):\n",
    "    X= feature_prep(date)\n",
    "    clstr = KMeans(n_clusters = 4)\n",
    "    clstr_labs = clstr.fit(X)\n",
    "    labs =  clstr.labels_\n",
    "\n",
    "    \n",
    "    X['Clusters'] = labs\n",
    "    \n",
    "    return X\n",
    "        \n",
    "        \n",
    "        "
   ]
  },
  {
   "cell_type": "code",
   "execution_count": 13,
   "metadata": {},
   "outputs": [],
   "source": [
    "def run_KMtest(dates):\n",
    "    results = dict()\n",
    "    for d in dates:\n",
    "        results[d] = Kmeans(d)\n",
    "    return results"
   ]
  },
  {
   "cell_type": "code",
   "execution_count": 14,
   "metadata": {},
   "outputs": [],
   "source": [
    "dates = dates[3:]\n",
    "\n"
   ]
  },
  {
   "cell_type": "code",
   "execution_count": 15,
   "metadata": {},
   "outputs": [],
   "source": [
    "mod_dict = run_KMtest(dates)"
   ]
  },
  {
   "cell_type": "code",
   "execution_count": 225,
   "metadata": {},
   "outputs": [],
   "source": [
    "def port_const(mod_dict):\n",
    "    \n",
    "    dates = list(mod_dict.keys())\n",
    "    chain = []\n",
    "    mth = []\n",
    "    sval = 1000000\n",
    "    \n",
    "    for i in range(0,len(dates)):\n",
    "        #try:\n",
    "            #universe = mod_dict[dates[i]]\n",
    "            #eval_df = universe.groupby('Clusters').mean()\n",
    "            #eval_df['AVG_SCORE'] = eval_df.mean(axis = 1)\n",
    "            #selection = eval_df['AVG_SCORE'].idxmax()\n",
    "            #port = universe[universe['Clusters'] == selection]\n",
    "            #rics = list(port.index)\n",
    "            #px_df = ek.get_timeseries(rics, fields = 'CLOSE', start_date = dates[i], end_date = dates[i+1], interval = 'monthly')\n",
    "            #px_df.to_csv('{}_KMEANS_PORT.csv'.format(dates[i]))\n",
    "        px_df = pd.read_csv('{}_KMEANS_PORT.csv'.format(dates[i]), index_col = 'Date')\n",
    "        px_df = px_df.dropna(axis = 1)\n",
    "        px_pershare = list(px_df.iloc[0])\n",
    "        weights = [1/len(px_pershare) for i in px_pershare]\n",
    "        allocs = [i * sval for i in weights]\n",
    "        shares = [i/j for i, j in zip(allocs, px_pershare)]\n",
    "        for d in px_df.index:\n",
    "            v = np.dot(shares, px_df.loc[d])\n",
    "            mth.append(d)\n",
    "            chain.append(v)\n",
    "            sval = v\n",
    "            \n",
    "    returns = pd.DataFrame({'Date':mth, 'Port': chain})\n",
    "    \n",
    "    rsp = pd.read_csv('RSP_DAT.csv', index_col ='Date')\n",
    "    bm_dat = list(rsp['CLOSE'])\n",
    "    returns['BM'] = bm_dat\n",
    "    returns['BM'] = returns['BM']/returns['BM'].iloc[0]\n",
    "    returns['Port'] = returns['Port']/returns['Port'].iloc[0]\n",
    "\n",
    "\n",
    "\n",
    "    \n",
    "    return returns"
   ]
  },
  {
   "cell_type": "code",
   "execution_count": 226,
   "metadata": {},
   "outputs": [],
   "source": [
    "port_df = port_const(mod_dict)"
   ]
  },
  {
   "cell_type": "code",
   "execution_count": 227,
   "metadata": {},
   "outputs": [
    {
     "data": {
      "text/html": [
       "<div>\n",
       "<style scoped>\n",
       "    .dataframe tbody tr th:only-of-type {\n",
       "        vertical-align: middle;\n",
       "    }\n",
       "\n",
       "    .dataframe tbody tr th {\n",
       "        vertical-align: top;\n",
       "    }\n",
       "\n",
       "    .dataframe thead th {\n",
       "        text-align: right;\n",
       "    }\n",
       "</style>\n",
       "<table border=\"1\" class=\"dataframe\">\n",
       "  <thead>\n",
       "    <tr style=\"text-align: right;\">\n",
       "      <th></th>\n",
       "      <th>Date</th>\n",
       "      <th>Port</th>\n",
       "      <th>BM</th>\n",
       "    </tr>\n",
       "  </thead>\n",
       "  <tbody>\n",
       "    <tr>\n",
       "      <th>0</th>\n",
       "      <td>2015-12-31</td>\n",
       "      <td>1.000000</td>\n",
       "      <td>1.000000</td>\n",
       "    </tr>\n",
       "    <tr>\n",
       "      <th>1</th>\n",
       "      <td>2016-01-31</td>\n",
       "      <td>0.950248</td>\n",
       "      <td>0.944415</td>\n",
       "    </tr>\n",
       "    <tr>\n",
       "      <th>2</th>\n",
       "      <td>2016-02-29</td>\n",
       "      <td>0.959577</td>\n",
       "      <td>0.953810</td>\n",
       "    </tr>\n",
       "    <tr>\n",
       "      <th>3</th>\n",
       "      <td>2016-03-31</td>\n",
       "      <td>0.959577</td>\n",
       "      <td>1.024661</td>\n",
       "    </tr>\n",
       "    <tr>\n",
       "      <th>4</th>\n",
       "      <td>2016-04-30</td>\n",
       "      <td>0.950733</td>\n",
       "      <td>1.037448</td>\n",
       "    </tr>\n",
       "    <tr>\n",
       "      <th>...</th>\n",
       "      <td>...</td>\n",
       "      <td>...</td>\n",
       "      <td>...</td>\n",
       "    </tr>\n",
       "    <tr>\n",
       "      <th>57</th>\n",
       "      <td>2020-09-30</td>\n",
       "      <td>2.046183</td>\n",
       "      <td>1.410621</td>\n",
       "    </tr>\n",
       "    <tr>\n",
       "      <th>58</th>\n",
       "      <td>2020-10-31</td>\n",
       "      <td>2.001202</td>\n",
       "      <td>1.402792</td>\n",
       "    </tr>\n",
       "    <tr>\n",
       "      <th>59</th>\n",
       "      <td>2020-11-30</td>\n",
       "      <td>2.209223</td>\n",
       "      <td>1.603340</td>\n",
       "    </tr>\n",
       "    <tr>\n",
       "      <th>60</th>\n",
       "      <td>2020-12-31</td>\n",
       "      <td>2.209223</td>\n",
       "      <td>1.664144</td>\n",
       "    </tr>\n",
       "    <tr>\n",
       "      <th>61</th>\n",
       "      <td>2021-01-31</td>\n",
       "      <td>2.174923</td>\n",
       "      <td>1.650574</td>\n",
       "    </tr>\n",
       "  </tbody>\n",
       "</table>\n",
       "<p>62 rows × 3 columns</p>\n",
       "</div>"
      ],
      "text/plain": [
       "          Date      Port        BM\n",
       "0   2015-12-31  1.000000  1.000000\n",
       "1   2016-01-31  0.950248  0.944415\n",
       "2   2016-02-29  0.959577  0.953810\n",
       "3   2016-03-31  0.959577  1.024661\n",
       "4   2016-04-30  0.950733  1.037448\n",
       "..         ...       ...       ...\n",
       "57  2020-09-30  2.046183  1.410621\n",
       "58  2020-10-31  2.001202  1.402792\n",
       "59  2020-11-30  2.209223  1.603340\n",
       "60  2020-12-31  2.209223  1.664144\n",
       "61  2021-01-31  2.174923  1.650574\n",
       "\n",
       "[62 rows x 3 columns]"
      ]
     },
     "execution_count": 227,
     "metadata": {},
     "output_type": "execute_result"
    }
   ],
   "source": [
    "port_df"
   ]
  },
  {
   "cell_type": "code",
   "execution_count": 230,
   "metadata": {},
   "outputs": [],
   "source": [
    "def perf_plot(port_df):\n",
    "    funds = port_df\n",
    "    portfolios = funds.filter(['Date', 'Port', 'BM'])\n",
    "    fig_perf = go.Figure()\n",
    "\n",
    "    fig_perf.add_trace(\n",
    "        go.Scatter(\n",
    "        x = portfolios['Date'],\n",
    "        y = portfolios['Port'],\n",
    "        name = 'KMeans Stock Selection',\n",
    "        line = {'color': '#00274C'}))\n",
    "\n",
    "\n",
    "\n",
    "    fig_perf.add_trace(\n",
    "        go.Scatter(\n",
    "        x = portfolios['Date'],\n",
    "        y = portfolios['BM'],\n",
    "        name = 'Equal Weight S&P 500',\n",
    "        line = {'color': '#FFCB05'}))\n",
    "\n",
    "\n",
    "\n",
    "    fig_perf.update_yaxes(tickformat=\".2%\", title = 'Portfolio Return')\n",
    "\n",
    "\n",
    "\n",
    "\n",
    "    fig_perf.update_layout(legend=dict(orientation='h',yanchor='top',xanchor='center',y=-0.05, x=0.5), paper_bgcolor='white',\n",
    "        plot_bgcolor='white' , height = 800, width = 1200, title_text='Performance', title_x=0.5)\n",
    "    \n",
    "    daily_rp = portfolios['Port'].pct_change().dropna()\n",
    "    daily_6040 = portfolios['BM'].pct_change().dropna()\n",
    "\n",
    "    \n",
    "    mu_a = daily_rp.mean() *252\n",
    "    mu_b = daily_6040.mean() * 252\n",
    "\n",
    "    \n",
    "    sig_a = daily_rp.std() * (252**0.5)\n",
    "    sig_b = daily_6040.std() * (252**0.5)\n",
    "\n",
    "\n",
    "    active_sharpe = (mu_a)/sig_a\n",
    "    bh_sharpe = (mu_b)/sig_b\n",
    "\n",
    "    \n",
    "    \n",
    "    \n",
    "    print('RPAR Portfolio Sharpe: {:.2f}'.format(active_sharpe))\n",
    "    print('Bond Sharpe: {:.2f}'.format(bh_sharpe))\n",
    "    print(sig_a, sig_b)\n",
    "\n",
    "    return fig_perf.show()\n"
   ]
  },
  {
   "cell_type": "code",
   "execution_count": 231,
   "metadata": {},
   "outputs": [
    {
     "name": "stdout",
     "output_type": "stream",
     "text": [
      "RPAR Portfolio Sharpe: 5.88\n",
      "Bond Sharpe: 2.99\n",
      "MSCI All Countery Index: 2.99\n",
      "0.5767444072452922 0.8049251351962373\n"
     ]
    },
    {
     "data": {
      "application/vnd.plotly.v1+json": {
       "config": {
        "plotlyServerURL": "https://plot.ly"
       },
       "data": [
        {
         "line": {
          "color": "#00274C"
         },
         "name": "KMeans Stock Selection",
         "type": "scatter",
         "x": [
          "2015-12-31",
          "2016-01-31",
          "2016-02-29",
          "2016-03-31",
          "2016-04-30",
          "2016-05-31",
          "2016-06-30",
          "2016-07-31",
          "2016-08-31",
          "2016-09-30",
          "2016-10-31",
          "2016-11-30",
          "2016-12-31",
          "2017-01-31",
          "2017-02-28",
          "2017-03-31",
          "2017-04-30",
          "2017-05-31",
          "2017-06-30",
          "2017-07-31",
          "2017-08-31",
          "2017-09-30",
          "2017-10-31",
          "2017-11-30",
          "2017-12-31",
          "2018-01-31",
          "2018-02-28",
          "2018-03-31",
          "2018-04-30",
          "2018-05-31",
          "2018-06-30",
          "2018-07-31",
          "2018-08-31",
          "2018-09-30",
          "2018-10-31",
          "2018-11-30",
          "2018-12-31",
          "2019-01-31",
          "2019-02-28",
          "2019-03-31",
          "2019-04-30",
          "2019-05-31",
          "2019-06-30",
          "2019-07-31",
          "2019-08-31",
          "2019-09-30",
          "2019-10-31",
          "2019-11-30",
          "2019-12-31",
          "2020-01-31",
          "2020-02-29",
          "2020-03-31",
          "2020-04-30",
          "2020-05-31",
          "2020-06-30",
          "2020-07-31",
          "2020-08-31",
          "2020-09-30",
          "2020-10-31",
          "2020-11-30",
          "2020-12-31",
          "2021-01-31"
         ],
         "y": [
          1,
          0.9502475982089058,
          0.9595771395047653,
          0.9595771395047654,
          0.9507329801956736,
          0.9734732708426478,
          0.9734732708426473,
          1.009752838681159,
          1.0111024994606843,
          1.0111024994606843,
          0.9762116288620559,
          1.0114363914277027,
          1.0114363914277027,
          1.0409213196646008,
          1.0854867255694156,
          1.085486725569415,
          1.1049272078187098,
          1.149414365070953,
          1.1494143650709532,
          1.1682742213841737,
          1.1878338130868036,
          1.187833813086804,
          1.2324002508198943,
          1.2684937824366607,
          1.2684937824366609,
          1.3509822510725473,
          1.3226481661980192,
          1.3226481661980198,
          1.310921341829844,
          1.3619371694711662,
          1.3619371694711655,
          1.3917414808161028,
          1.4728654934527614,
          1.4728654934527619,
          1.345610718147339,
          1.3811556231781328,
          1.3811556231781328,
          1.4874455244669271,
          1.5696260550132226,
          1.5696260550132217,
          1.618318395933981,
          1.546825873528262,
          1.5468258735282612,
          1.572712488842022,
          1.570262827147276,
          1.5702628271472752,
          1.5858119358218346,
          1.6415596667375743,
          1.641559666737575,
          1.6351882505481001,
          1.5273848148042228,
          1.5273848148042233,
          1.7286169833578453,
          1.851618567137811,
          1.8516185671378111,
          1.9696055244904043,
          2.0461828031652862,
          2.046182803165284,
          2.0012023009903053,
          2.2092234269618634,
          2.2092234269618634,
          2.174923104898293
         ]
        },
        {
         "line": {
          "color": "#FFCB05"
         },
         "name": "Equal Weight S&P 500",
         "type": "scatter",
         "x": [
          "2015-12-31",
          "2016-01-31",
          "2016-02-29",
          "2016-03-31",
          "2016-04-30",
          "2016-05-31",
          "2016-06-30",
          "2016-07-31",
          "2016-08-31",
          "2016-09-30",
          "2016-10-31",
          "2016-11-30",
          "2016-12-31",
          "2017-01-31",
          "2017-02-28",
          "2017-03-31",
          "2017-04-30",
          "2017-05-31",
          "2017-06-30",
          "2017-07-31",
          "2017-08-31",
          "2017-09-30",
          "2017-10-31",
          "2017-11-30",
          "2017-12-31",
          "2018-01-31",
          "2018-02-28",
          "2018-03-31",
          "2018-04-30",
          "2018-05-31",
          "2018-06-30",
          "2018-07-31",
          "2018-08-31",
          "2018-09-30",
          "2018-10-31",
          "2018-11-30",
          "2018-12-31",
          "2019-01-31",
          "2019-02-28",
          "2019-03-31",
          "2019-04-30",
          "2019-05-31",
          "2019-06-30",
          "2019-07-31",
          "2019-08-31",
          "2019-09-30",
          "2019-10-31",
          "2019-11-30",
          "2019-12-31",
          "2020-01-31",
          "2020-02-29",
          "2020-03-31",
          "2020-04-30",
          "2020-05-31",
          "2020-06-30",
          "2020-07-31",
          "2020-08-31",
          "2020-09-30",
          "2020-10-31",
          "2020-11-30",
          "2020-12-31",
          "2021-01-31"
         ],
         "y": [
          1,
          0.9444154488517744,
          0.9538100208768266,
          1.024660751565762,
          1.0374478079331941,
          1.0515396659707725,
          1.0484081419624216,
          1.0918580375782883,
          1.0935542797494782,
          1.0906837160751566,
          1.0640657620041754,
          1.1197807933194153,
          1.1304801670146138,
          1.1531837160751566,
          1.1893267223382047,
          1.1850208768267223,
          1.1928496868475993,
          1.1995041753653446,
          1.2092901878914406,
          1.2286012526096033,
          1.2163361169102296,
          1.2466075156576202,
          1.26017745302714,
          1.308063674321503,
          1.318241127348643,
          1.376043841336117,
          1.3156315240083507,
          1.298016701461378,
          1.3028444676409185,
          1.3217640918580376,
          1.3294624217118998,
          1.3706941544885176,
          1.3975730688935282,
          1.39365866388309,
          1.2926670146137786,
          1.3264613778705636,
          1.19258872651357,
          1.3096294363256786,
          1.3576461377870563,
          1.3627348643006263,
          1.4116649269311063,
          1.313804801670146,
          1.4065762004175364,
          1.4184498956158662,
          1.3721294363256784,
          1.4102296450939458,
          1.4275835073068892,
          1.4761221294363256,
          1.5099164926931106,
          1.4814718162839249,
          1.3500782881002087,
          1.096294363256785,
          1.254436325678497,
          1.3140657620041754,
          1.3277661795407099,
          1.3940501043841336,
          1.4535490605427976,
          1.4106210855949894,
          1.402792275574113,
          1.603340292275574,
          1.6641440501043843,
          1.6505741127348643
         ]
        }
       ],
       "layout": {
        "height": 800,
        "legend": {
         "orientation": "h",
         "x": 0.5,
         "xanchor": "center",
         "y": -0.05,
         "yanchor": "top"
        },
        "paper_bgcolor": "white",
        "plot_bgcolor": "white",
        "template": {
         "data": {
          "bar": [
           {
            "error_x": {
             "color": "#2a3f5f"
            },
            "error_y": {
             "color": "#2a3f5f"
            },
            "marker": {
             "line": {
              "color": "#E5ECF6",
              "width": 0.5
             }
            },
            "type": "bar"
           }
          ],
          "barpolar": [
           {
            "marker": {
             "line": {
              "color": "#E5ECF6",
              "width": 0.5
             }
            },
            "type": "barpolar"
           }
          ],
          "carpet": [
           {
            "aaxis": {
             "endlinecolor": "#2a3f5f",
             "gridcolor": "white",
             "linecolor": "white",
             "minorgridcolor": "white",
             "startlinecolor": "#2a3f5f"
            },
            "baxis": {
             "endlinecolor": "#2a3f5f",
             "gridcolor": "white",
             "linecolor": "white",
             "minorgridcolor": "white",
             "startlinecolor": "#2a3f5f"
            },
            "type": "carpet"
           }
          ],
          "choropleth": [
           {
            "colorbar": {
             "outlinewidth": 0,
             "ticks": ""
            },
            "type": "choropleth"
           }
          ],
          "contour": [
           {
            "colorbar": {
             "outlinewidth": 0,
             "ticks": ""
            },
            "colorscale": [
             [
              0,
              "#0d0887"
             ],
             [
              0.1111111111111111,
              "#46039f"
             ],
             [
              0.2222222222222222,
              "#7201a8"
             ],
             [
              0.3333333333333333,
              "#9c179e"
             ],
             [
              0.4444444444444444,
              "#bd3786"
             ],
             [
              0.5555555555555556,
              "#d8576b"
             ],
             [
              0.6666666666666666,
              "#ed7953"
             ],
             [
              0.7777777777777778,
              "#fb9f3a"
             ],
             [
              0.8888888888888888,
              "#fdca26"
             ],
             [
              1,
              "#f0f921"
             ]
            ],
            "type": "contour"
           }
          ],
          "contourcarpet": [
           {
            "colorbar": {
             "outlinewidth": 0,
             "ticks": ""
            },
            "type": "contourcarpet"
           }
          ],
          "heatmap": [
           {
            "colorbar": {
             "outlinewidth": 0,
             "ticks": ""
            },
            "colorscale": [
             [
              0,
              "#0d0887"
             ],
             [
              0.1111111111111111,
              "#46039f"
             ],
             [
              0.2222222222222222,
              "#7201a8"
             ],
             [
              0.3333333333333333,
              "#9c179e"
             ],
             [
              0.4444444444444444,
              "#bd3786"
             ],
             [
              0.5555555555555556,
              "#d8576b"
             ],
             [
              0.6666666666666666,
              "#ed7953"
             ],
             [
              0.7777777777777778,
              "#fb9f3a"
             ],
             [
              0.8888888888888888,
              "#fdca26"
             ],
             [
              1,
              "#f0f921"
             ]
            ],
            "type": "heatmap"
           }
          ],
          "heatmapgl": [
           {
            "colorbar": {
             "outlinewidth": 0,
             "ticks": ""
            },
            "colorscale": [
             [
              0,
              "#0d0887"
             ],
             [
              0.1111111111111111,
              "#46039f"
             ],
             [
              0.2222222222222222,
              "#7201a8"
             ],
             [
              0.3333333333333333,
              "#9c179e"
             ],
             [
              0.4444444444444444,
              "#bd3786"
             ],
             [
              0.5555555555555556,
              "#d8576b"
             ],
             [
              0.6666666666666666,
              "#ed7953"
             ],
             [
              0.7777777777777778,
              "#fb9f3a"
             ],
             [
              0.8888888888888888,
              "#fdca26"
             ],
             [
              1,
              "#f0f921"
             ]
            ],
            "type": "heatmapgl"
           }
          ],
          "histogram": [
           {
            "marker": {
             "colorbar": {
              "outlinewidth": 0,
              "ticks": ""
             }
            },
            "type": "histogram"
           }
          ],
          "histogram2d": [
           {
            "colorbar": {
             "outlinewidth": 0,
             "ticks": ""
            },
            "colorscale": [
             [
              0,
              "#0d0887"
             ],
             [
              0.1111111111111111,
              "#46039f"
             ],
             [
              0.2222222222222222,
              "#7201a8"
             ],
             [
              0.3333333333333333,
              "#9c179e"
             ],
             [
              0.4444444444444444,
              "#bd3786"
             ],
             [
              0.5555555555555556,
              "#d8576b"
             ],
             [
              0.6666666666666666,
              "#ed7953"
             ],
             [
              0.7777777777777778,
              "#fb9f3a"
             ],
             [
              0.8888888888888888,
              "#fdca26"
             ],
             [
              1,
              "#f0f921"
             ]
            ],
            "type": "histogram2d"
           }
          ],
          "histogram2dcontour": [
           {
            "colorbar": {
             "outlinewidth": 0,
             "ticks": ""
            },
            "colorscale": [
             [
              0,
              "#0d0887"
             ],
             [
              0.1111111111111111,
              "#46039f"
             ],
             [
              0.2222222222222222,
              "#7201a8"
             ],
             [
              0.3333333333333333,
              "#9c179e"
             ],
             [
              0.4444444444444444,
              "#bd3786"
             ],
             [
              0.5555555555555556,
              "#d8576b"
             ],
             [
              0.6666666666666666,
              "#ed7953"
             ],
             [
              0.7777777777777778,
              "#fb9f3a"
             ],
             [
              0.8888888888888888,
              "#fdca26"
             ],
             [
              1,
              "#f0f921"
             ]
            ],
            "type": "histogram2dcontour"
           }
          ],
          "mesh3d": [
           {
            "colorbar": {
             "outlinewidth": 0,
             "ticks": ""
            },
            "type": "mesh3d"
           }
          ],
          "parcoords": [
           {
            "line": {
             "colorbar": {
              "outlinewidth": 0,
              "ticks": ""
             }
            },
            "type": "parcoords"
           }
          ],
          "pie": [
           {
            "automargin": true,
            "type": "pie"
           }
          ],
          "scatter": [
           {
            "marker": {
             "colorbar": {
              "outlinewidth": 0,
              "ticks": ""
             }
            },
            "type": "scatter"
           }
          ],
          "scatter3d": [
           {
            "line": {
             "colorbar": {
              "outlinewidth": 0,
              "ticks": ""
             }
            },
            "marker": {
             "colorbar": {
              "outlinewidth": 0,
              "ticks": ""
             }
            },
            "type": "scatter3d"
           }
          ],
          "scattercarpet": [
           {
            "marker": {
             "colorbar": {
              "outlinewidth": 0,
              "ticks": ""
             }
            },
            "type": "scattercarpet"
           }
          ],
          "scattergeo": [
           {
            "marker": {
             "colorbar": {
              "outlinewidth": 0,
              "ticks": ""
             }
            },
            "type": "scattergeo"
           }
          ],
          "scattergl": [
           {
            "marker": {
             "colorbar": {
              "outlinewidth": 0,
              "ticks": ""
             }
            },
            "type": "scattergl"
           }
          ],
          "scattermapbox": [
           {
            "marker": {
             "colorbar": {
              "outlinewidth": 0,
              "ticks": ""
             }
            },
            "type": "scattermapbox"
           }
          ],
          "scatterpolar": [
           {
            "marker": {
             "colorbar": {
              "outlinewidth": 0,
              "ticks": ""
             }
            },
            "type": "scatterpolar"
           }
          ],
          "scatterpolargl": [
           {
            "marker": {
             "colorbar": {
              "outlinewidth": 0,
              "ticks": ""
             }
            },
            "type": "scatterpolargl"
           }
          ],
          "scatterternary": [
           {
            "marker": {
             "colorbar": {
              "outlinewidth": 0,
              "ticks": ""
             }
            },
            "type": "scatterternary"
           }
          ],
          "surface": [
           {
            "colorbar": {
             "outlinewidth": 0,
             "ticks": ""
            },
            "colorscale": [
             [
              0,
              "#0d0887"
             ],
             [
              0.1111111111111111,
              "#46039f"
             ],
             [
              0.2222222222222222,
              "#7201a8"
             ],
             [
              0.3333333333333333,
              "#9c179e"
             ],
             [
              0.4444444444444444,
              "#bd3786"
             ],
             [
              0.5555555555555556,
              "#d8576b"
             ],
             [
              0.6666666666666666,
              "#ed7953"
             ],
             [
              0.7777777777777778,
              "#fb9f3a"
             ],
             [
              0.8888888888888888,
              "#fdca26"
             ],
             [
              1,
              "#f0f921"
             ]
            ],
            "type": "surface"
           }
          ],
          "table": [
           {
            "cells": {
             "fill": {
              "color": "#EBF0F8"
             },
             "line": {
              "color": "white"
             }
            },
            "header": {
             "fill": {
              "color": "#C8D4E3"
             },
             "line": {
              "color": "white"
             }
            },
            "type": "table"
           }
          ]
         },
         "layout": {
          "annotationdefaults": {
           "arrowcolor": "#2a3f5f",
           "arrowhead": 0,
           "arrowwidth": 1
          },
          "autotypenumbers": "strict",
          "coloraxis": {
           "colorbar": {
            "outlinewidth": 0,
            "ticks": ""
           }
          },
          "colorscale": {
           "diverging": [
            [
             0,
             "#8e0152"
            ],
            [
             0.1,
             "#c51b7d"
            ],
            [
             0.2,
             "#de77ae"
            ],
            [
             0.3,
             "#f1b6da"
            ],
            [
             0.4,
             "#fde0ef"
            ],
            [
             0.5,
             "#f7f7f7"
            ],
            [
             0.6,
             "#e6f5d0"
            ],
            [
             0.7,
             "#b8e186"
            ],
            [
             0.8,
             "#7fbc41"
            ],
            [
             0.9,
             "#4d9221"
            ],
            [
             1,
             "#276419"
            ]
           ],
           "sequential": [
            [
             0,
             "#0d0887"
            ],
            [
             0.1111111111111111,
             "#46039f"
            ],
            [
             0.2222222222222222,
             "#7201a8"
            ],
            [
             0.3333333333333333,
             "#9c179e"
            ],
            [
             0.4444444444444444,
             "#bd3786"
            ],
            [
             0.5555555555555556,
             "#d8576b"
            ],
            [
             0.6666666666666666,
             "#ed7953"
            ],
            [
             0.7777777777777778,
             "#fb9f3a"
            ],
            [
             0.8888888888888888,
             "#fdca26"
            ],
            [
             1,
             "#f0f921"
            ]
           ],
           "sequentialminus": [
            [
             0,
             "#0d0887"
            ],
            [
             0.1111111111111111,
             "#46039f"
            ],
            [
             0.2222222222222222,
             "#7201a8"
            ],
            [
             0.3333333333333333,
             "#9c179e"
            ],
            [
             0.4444444444444444,
             "#bd3786"
            ],
            [
             0.5555555555555556,
             "#d8576b"
            ],
            [
             0.6666666666666666,
             "#ed7953"
            ],
            [
             0.7777777777777778,
             "#fb9f3a"
            ],
            [
             0.8888888888888888,
             "#fdca26"
            ],
            [
             1,
             "#f0f921"
            ]
           ]
          },
          "colorway": [
           "#636efa",
           "#EF553B",
           "#00cc96",
           "#ab63fa",
           "#FFA15A",
           "#19d3f3",
           "#FF6692",
           "#B6E880",
           "#FF97FF",
           "#FECB52"
          ],
          "font": {
           "color": "#2a3f5f"
          },
          "geo": {
           "bgcolor": "white",
           "lakecolor": "white",
           "landcolor": "#E5ECF6",
           "showlakes": true,
           "showland": true,
           "subunitcolor": "white"
          },
          "hoverlabel": {
           "align": "left"
          },
          "hovermode": "closest",
          "mapbox": {
           "style": "light"
          },
          "paper_bgcolor": "white",
          "plot_bgcolor": "#E5ECF6",
          "polar": {
           "angularaxis": {
            "gridcolor": "white",
            "linecolor": "white",
            "ticks": ""
           },
           "bgcolor": "#E5ECF6",
           "radialaxis": {
            "gridcolor": "white",
            "linecolor": "white",
            "ticks": ""
           }
          },
          "scene": {
           "xaxis": {
            "backgroundcolor": "#E5ECF6",
            "gridcolor": "white",
            "gridwidth": 2,
            "linecolor": "white",
            "showbackground": true,
            "ticks": "",
            "zerolinecolor": "white"
           },
           "yaxis": {
            "backgroundcolor": "#E5ECF6",
            "gridcolor": "white",
            "gridwidth": 2,
            "linecolor": "white",
            "showbackground": true,
            "ticks": "",
            "zerolinecolor": "white"
           },
           "zaxis": {
            "backgroundcolor": "#E5ECF6",
            "gridcolor": "white",
            "gridwidth": 2,
            "linecolor": "white",
            "showbackground": true,
            "ticks": "",
            "zerolinecolor": "white"
           }
          },
          "shapedefaults": {
           "line": {
            "color": "#2a3f5f"
           }
          },
          "ternary": {
           "aaxis": {
            "gridcolor": "white",
            "linecolor": "white",
            "ticks": ""
           },
           "baxis": {
            "gridcolor": "white",
            "linecolor": "white",
            "ticks": ""
           },
           "bgcolor": "#E5ECF6",
           "caxis": {
            "gridcolor": "white",
            "linecolor": "white",
            "ticks": ""
           }
          },
          "title": {
           "x": 0.05
          },
          "xaxis": {
           "automargin": true,
           "gridcolor": "white",
           "linecolor": "white",
           "ticks": "",
           "title": {
            "standoff": 15
           },
           "zerolinecolor": "white",
           "zerolinewidth": 2
          },
          "yaxis": {
           "automargin": true,
           "gridcolor": "white",
           "linecolor": "white",
           "ticks": "",
           "title": {
            "standoff": 15
           },
           "zerolinecolor": "white",
           "zerolinewidth": 2
          }
         }
        },
        "title": {
         "text": "Performance",
         "x": 0.5
        },
        "width": 1200,
        "xaxis": {
         "autorange": true,
         "range": [
          "2015-12-31",
          "2021-01-31"
         ],
         "type": "date"
        },
        "yaxis": {
         "autorange": true,
         "range": [
          0.8741483389567695,
          2.2794905368568683
         ],
         "tickformat": ".2%",
         "title": {
          "text": "Portfolio Return"
         },
         "type": "linear"
        }
       }
      },
      "image/png": "[encoded data removed]",
      "text/html": [
       "<div>                            <div id=\"b749d762-a4f4-4f41-a9de-601114cb53c5\" class=\"plotly-graph-div\" style=\"height:800px; width:1200px;\"></div>            <script type=\"text/javascript\">                require([\"plotly\"], function(Plotly) {                    window.PLOTLYENV=window.PLOTLYENV || {};                                    if (document.getElementById(\"b749d762-a4f4-4f41-a9de-601114cb53c5\")) {                    Plotly.newPlot(                        \"b749d762-a4f4-4f41-a9de-601114cb53c5\",                        [{\"line\": {\"color\": \"#00274C\"}, \"name\": \"KMeans Stock Selection\", \"type\": \"scatter\", \"x\": [\"2015-12-31\", \"2016-01-31\", \"2016-02-29\", \"2016-03-31\", \"2016-04-30\", \"2016-05-31\", \"2016-06-30\", \"2016-07-31\", \"2016-08-31\", \"2016-09-30\", \"2016-10-31\", \"2016-11-30\", \"2016-12-31\", \"2017-01-31\", \"2017-02-28\", \"2017-03-31\", \"2017-04-30\", \"2017-05-31\", \"2017-06-30\", \"2017-07-31\", \"2017-08-31\", \"2017-09-30\", \"2017-10-31\", \"2017-11-30\", \"2017-12-31\", \"2018-01-31\", \"2018-02-28\", \"2018-03-31\", \"2018-04-30\", \"2018-05-31\", \"2018-06-30\", \"2018-07-31\", \"2018-08-31\", \"2018-09-30\", \"2018-10-31\", \"2018-11-30\", \"2018-12-31\", \"2019-01-31\", \"2019-02-28\", \"2019-03-31\", \"2019-04-30\", \"2019-05-31\", \"2019-06-30\", \"2019-07-31\", \"2019-08-31\", \"2019-09-30\", \"2019-10-31\", \"2019-11-30\", \"2019-12-31\", \"2020-01-31\", \"2020-02-29\", \"2020-03-31\", \"2020-04-30\", \"2020-05-31\", \"2020-06-30\", \"2020-07-31\", \"2020-08-31\", \"2020-09-30\", \"2020-10-31\", \"2020-11-30\", \"2020-12-31\", \"2021-01-31\"], \"y\": [1.0, 0.9502475982089058, 0.9595771395047653, 0.9595771395047654, 0.9507329801956736, 0.9734732708426478, 0.9734732708426473, 1.009752838681159, 1.0111024994606843, 1.0111024994606843, 0.9762116288620559, 1.0114363914277027, 1.0114363914277027, 1.0409213196646008, 1.0854867255694156, 1.085486725569415, 1.1049272078187098, 1.149414365070953, 1.1494143650709532, 1.1682742213841737, 1.1878338130868036, 1.187833813086804, 1.2324002508198943, 1.2684937824366607, 1.2684937824366609, 1.3509822510725473, 1.3226481661980192, 1.3226481661980198, 1.310921341829844, 1.3619371694711662, 1.3619371694711655, 1.3917414808161028, 1.4728654934527614, 1.4728654934527619, 1.345610718147339, 1.3811556231781328, 1.3811556231781328, 1.4874455244669271, 1.5696260550132226, 1.5696260550132217, 1.618318395933981, 1.546825873528262, 1.5468258735282612, 1.572712488842022, 1.570262827147276, 1.5702628271472752, 1.5858119358218346, 1.6415596667375743, 1.641559666737575, 1.6351882505481001, 1.5273848148042228, 1.5273848148042233, 1.7286169833578453, 1.851618567137811, 1.8516185671378111, 1.9696055244904043, 2.0461828031652862, 2.046182803165284, 2.0012023009903053, 2.2092234269618634, 2.2092234269618634, 2.174923104898293]}, {\"line\": {\"color\": \"#FFCB05\"}, \"name\": \"Equal Weight S&P 500\", \"type\": \"scatter\", \"x\": [\"2015-12-31\", \"2016-01-31\", \"2016-02-29\", \"2016-03-31\", \"2016-04-30\", \"2016-05-31\", \"2016-06-30\", \"2016-07-31\", \"2016-08-31\", \"2016-09-30\", \"2016-10-31\", \"2016-11-30\", \"2016-12-31\", \"2017-01-31\", \"2017-02-28\", \"2017-03-31\", \"2017-04-30\", \"2017-05-31\", \"2017-06-30\", \"2017-07-31\", \"2017-08-31\", \"2017-09-30\", \"2017-10-31\", \"2017-11-30\", \"2017-12-31\", \"2018-01-31\", \"2018-02-28\", \"2018-03-31\", \"2018-04-30\", \"2018-05-31\", \"2018-06-30\", \"2018-07-31\", \"2018-08-31\", \"2018-09-30\", \"2018-10-31\", \"2018-11-30\", \"2018-12-31\", \"2019-01-31\", \"2019-02-28\", \"2019-03-31\", \"2019-04-30\", \"2019-05-31\", \"2019-06-30\", \"2019-07-31\", \"2019-08-31\", \"2019-09-30\", \"2019-10-31\", \"2019-11-30\", \"2019-12-31\", \"2020-01-31\", \"2020-02-29\", \"2020-03-31\", \"2020-04-30\", \"2020-05-31\", \"2020-06-30\", \"2020-07-31\", \"2020-08-31\", \"2020-09-30\", \"2020-10-31\", \"2020-11-30\", \"2020-12-31\", \"2021-01-31\"], \"y\": [1.0, 0.9444154488517744, 0.9538100208768266, 1.024660751565762, 1.0374478079331941, 1.0515396659707725, 1.0484081419624216, 1.0918580375782883, 1.0935542797494782, 1.0906837160751566, 1.0640657620041754, 1.1197807933194153, 1.1304801670146138, 1.1531837160751566, 1.1893267223382047, 1.1850208768267223, 1.1928496868475993, 1.1995041753653446, 1.2092901878914406, 1.2286012526096033, 1.2163361169102296, 1.2466075156576202, 1.26017745302714, 1.308063674321503, 1.318241127348643, 1.376043841336117, 1.3156315240083507, 1.298016701461378, 1.3028444676409185, 1.3217640918580376, 1.3294624217118998, 1.3706941544885176, 1.3975730688935282, 1.39365866388309, 1.2926670146137786, 1.3264613778705636, 1.19258872651357, 1.3096294363256786, 1.3576461377870563, 1.3627348643006263, 1.4116649269311063, 1.313804801670146, 1.4065762004175364, 1.4184498956158662, 1.3721294363256784, 1.4102296450939458, 1.4275835073068892, 1.4761221294363256, 1.5099164926931106, 1.4814718162839249, 1.3500782881002087, 1.096294363256785, 1.254436325678497, 1.3140657620041754, 1.3277661795407099, 1.3940501043841336, 1.4535490605427976, 1.4106210855949894, 1.402792275574113, 1.603340292275574, 1.6641440501043843, 1.6505741127348643]}],                        {\"height\": 800, \"legend\": {\"orientation\": \"h\", \"x\": 0.5, \"xanchor\": \"center\", \"y\": -0.05, \"yanchor\": \"top\"}, \"paper_bgcolor\": \"white\", \"plot_bgcolor\": \"white\", \"template\": {\"data\": {\"bar\": [{\"error_x\": {\"color\": \"#2a3f5f\"}, \"error_y\": {\"color\": \"#2a3f5f\"}, \"marker\": {\"line\": {\"color\": \"#E5ECF6\", \"width\": 0.5}}, \"type\": \"bar\"}], \"barpolar\": [{\"marker\": {\"line\": {\"color\": \"#E5ECF6\", \"width\": 0.5}}, \"type\": \"barpolar\"}], \"carpet\": [{\"aaxis\": {\"endlinecolor\": \"#2a3f5f\", \"gridcolor\": \"white\", \"linecolor\": \"white\", \"minorgridcolor\": \"white\", \"startlinecolor\": \"#2a3f5f\"}, \"baxis\": {\"endlinecolor\": \"#2a3f5f\", \"gridcolor\": \"white\", \"linecolor\": \"white\", \"minorgridcolor\": \"white\", \"startlinecolor\": \"#2a3f5f\"}, \"type\": \"carpet\"}], \"choropleth\": [{\"colorbar\": {\"outlinewidth\": 0, \"ticks\": \"\"}, \"type\": \"choropleth\"}], \"contour\": [{\"colorbar\": {\"outlinewidth\": 0, \"ticks\": \"\"}, \"colorscale\": [[0.0, \"#0d0887\"], [0.1111111111111111, \"#46039f\"], [0.2222222222222222, \"#7201a8\"], [0.3333333333333333, \"#9c179e\"], [0.4444444444444444, \"#bd3786\"], [0.5555555555555556, \"#d8576b\"], [0.6666666666666666, \"#ed7953\"], [0.7777777777777778, \"#fb9f3a\"], [0.8888888888888888, \"#fdca26\"], [1.0, \"#f0f921\"]], \"type\": \"contour\"}], \"contourcarpet\": [{\"colorbar\": {\"outlinewidth\": 0, \"ticks\": \"\"}, \"type\": \"contourcarpet\"}], \"heatmap\": [{\"colorbar\": {\"outlinewidth\": 0, \"ticks\": \"\"}, \"colorscale\": [[0.0, \"#0d0887\"], [0.1111111111111111, \"#46039f\"], [0.2222222222222222, \"#7201a8\"], [0.3333333333333333, \"#9c179e\"], [0.4444444444444444, \"#bd3786\"], [0.5555555555555556, \"#d8576b\"], [0.6666666666666666, \"#ed7953\"], [0.7777777777777778, \"#fb9f3a\"], [0.8888888888888888, \"#fdca26\"], [1.0, \"#f0f921\"]], \"type\": \"heatmap\"}], \"heatmapgl\": [{\"colorbar\": {\"outlinewidth\": 0, \"ticks\": \"\"}, \"colorscale\": [[0.0, \"#0d0887\"], [0.1111111111111111, \"#46039f\"], [0.2222222222222222, \"#7201a8\"], [0.3333333333333333, \"#9c179e\"], [0.4444444444444444, \"#bd3786\"], [0.5555555555555556, \"#d8576b\"], [0.6666666666666666, \"#ed7953\"], [0.7777777777777778, \"#fb9f3a\"], [0.8888888888888888, \"#fdca26\"], [1.0, \"#f0f921\"]], \"type\": \"heatmapgl\"}], \"histogram\": [{\"marker\": {\"colorbar\": {\"outlinewidth\": 0, \"ticks\": \"\"}}, \"type\": \"histogram\"}], \"histogram2d\": [{\"colorbar\": {\"outlinewidth\": 0, \"ticks\": \"\"}, \"colorscale\": [[0.0, \"#0d0887\"], [0.1111111111111111, \"#46039f\"], [0.2222222222222222, \"#7201a8\"], [0.3333333333333333, \"#9c179e\"], [0.4444444444444444, \"#bd3786\"], [0.5555555555555556, \"#d8576b\"], [0.6666666666666666, \"#ed7953\"], [0.7777777777777778, \"#fb9f3a\"], [0.8888888888888888, \"#fdca26\"], [1.0, \"#f0f921\"]], \"type\": \"histogram2d\"}], \"histogram2dcontour\": [{\"colorbar\": {\"outlinewidth\": 0, \"ticks\": \"\"}, \"colorscale\": [[0.0, \"#0d0887\"], [0.1111111111111111, \"#46039f\"], [0.2222222222222222, \"#7201a8\"], [0.3333333333333333, \"#9c179e\"], [0.4444444444444444, \"#bd3786\"], [0.5555555555555556, \"#d8576b\"], [0.6666666666666666, \"#ed7953\"], [0.7777777777777778, \"#fb9f3a\"], [0.8888888888888888, \"#fdca26\"], [1.0, \"#f0f921\"]], \"type\": \"histogram2dcontour\"}], \"mesh3d\": [{\"colorbar\": {\"outlinewidth\": 0, \"ticks\": \"\"}, \"type\": \"mesh3d\"}], \"parcoords\": [{\"line\": {\"colorbar\": {\"outlinewidth\": 0, \"ticks\": \"\"}}, \"type\": \"parcoords\"}], \"pie\": [{\"automargin\": true, \"type\": \"pie\"}], \"scatter\": [{\"marker\": {\"colorbar\": {\"outlinewidth\": 0, \"ticks\": \"\"}}, \"type\": \"scatter\"}], \"scatter3d\": [{\"line\": {\"colorbar\": {\"outlinewidth\": 0, \"ticks\": \"\"}}, \"marker\": {\"colorbar\": {\"outlinewidth\": 0, \"ticks\": \"\"}}, \"type\": \"scatter3d\"}], \"scattercarpet\": [{\"marker\": {\"colorbar\": {\"outlinewidth\": 0, \"ticks\": \"\"}}, \"type\": \"scattercarpet\"}], \"scattergeo\": [{\"marker\": {\"colorbar\": {\"outlinewidth\": 0, \"ticks\": \"\"}}, \"type\": \"scattergeo\"}], \"scattergl\": [{\"marker\": {\"colorbar\": {\"outlinewidth\": 0, \"ticks\": \"\"}}, \"type\": \"scattergl\"}], \"scattermapbox\": [{\"marker\": {\"colorbar\": {\"outlinewidth\": 0, \"ticks\": \"\"}}, \"type\": \"scattermapbox\"}], \"scatterpolar\": [{\"marker\": {\"colorbar\": {\"outlinewidth\": 0, \"ticks\": \"\"}}, \"type\": \"scatterpolar\"}], \"scatterpolargl\": [{\"marker\": {\"colorbar\": {\"outlinewidth\": 0, \"ticks\": \"\"}}, \"type\": \"scatterpolargl\"}], \"scatterternary\": [{\"marker\": {\"colorbar\": {\"outlinewidth\": 0, \"ticks\": \"\"}}, \"type\": \"scatterternary\"}], \"surface\": [{\"colorbar\": {\"outlinewidth\": 0, \"ticks\": \"\"}, \"colorscale\": [[0.0, \"#0d0887\"], [0.1111111111111111, \"#46039f\"], [0.2222222222222222, \"#7201a8\"], [0.3333333333333333, \"#9c179e\"], [0.4444444444444444, \"#bd3786\"], [0.5555555555555556, \"#d8576b\"], [0.6666666666666666, \"#ed7953\"], [0.7777777777777778, \"#fb9f3a\"], [0.8888888888888888, \"#fdca26\"], [1.0, \"#f0f921\"]], \"type\": \"surface\"}], \"table\": [{\"cells\": {\"fill\": {\"color\": \"#EBF0F8\"}, \"line\": {\"color\": \"white\"}}, \"header\": {\"fill\": {\"color\": \"#C8D4E3\"}, \"line\": {\"color\": \"white\"}}, \"type\": \"table\"}]}, \"layout\": {\"annotationdefaults\": {\"arrowcolor\": \"#2a3f5f\", \"arrowhead\": 0, \"arrowwidth\": 1}, \"autotypenumbers\": \"strict\", \"coloraxis\": {\"colorbar\": {\"outlinewidth\": 0, \"ticks\": \"\"}}, \"colorscale\": {\"diverging\": [[0, \"#8e0152\"], [0.1, \"#c51b7d\"], [0.2, \"#de77ae\"], [0.3, \"#f1b6da\"], [0.4, \"#fde0ef\"], [0.5, \"#f7f7f7\"], [0.6, \"#e6f5d0\"], [0.7, \"#b8e186\"], [0.8, \"#7fbc41\"], [0.9, \"#4d9221\"], [1, \"#276419\"]], \"sequential\": [[0.0, \"#0d0887\"], [0.1111111111111111, \"#46039f\"], [0.2222222222222222, \"#7201a8\"], [0.3333333333333333, \"#9c179e\"], [0.4444444444444444, \"#bd3786\"], [0.5555555555555556, \"#d8576b\"], [0.6666666666666666, \"#ed7953\"], [0.7777777777777778, \"#fb9f3a\"], [0.8888888888888888, \"#fdca26\"], [1.0, \"#f0f921\"]], \"sequentialminus\": [[0.0, \"#0d0887\"], [0.1111111111111111, \"#46039f\"], [0.2222222222222222, \"#7201a8\"], [0.3333333333333333, \"#9c179e\"], [0.4444444444444444, \"#bd3786\"], [0.5555555555555556, \"#d8576b\"], [0.6666666666666666, \"#ed7953\"], [0.7777777777777778, \"#fb9f3a\"], [0.8888888888888888, \"#fdca26\"], [1.0, \"#f0f921\"]]}, \"colorway\": [\"#636efa\", \"#EF553B\", \"#00cc96\", \"#ab63fa\", \"#FFA15A\", \"#19d3f3\", \"#FF6692\", \"#B6E880\", \"#FF97FF\", \"#FECB52\"], \"font\": {\"color\": \"#2a3f5f\"}, \"geo\": {\"bgcolor\": \"white\", \"lakecolor\": \"white\", \"landcolor\": \"#E5ECF6\", \"showlakes\": true, \"showland\": true, \"subunitcolor\": \"white\"}, \"hoverlabel\": {\"align\": \"left\"}, \"hovermode\": \"closest\", \"mapbox\": {\"style\": \"light\"}, \"paper_bgcolor\": \"white\", \"plot_bgcolor\": \"#E5ECF6\", \"polar\": {\"angularaxis\": {\"gridcolor\": \"white\", \"linecolor\": \"white\", \"ticks\": \"\"}, \"bgcolor\": \"#E5ECF6\", \"radialaxis\": {\"gridcolor\": \"white\", \"linecolor\": \"white\", \"ticks\": \"\"}}, \"scene\": {\"xaxis\": {\"backgroundcolor\": \"#E5ECF6\", \"gridcolor\": \"white\", \"gridwidth\": 2, \"linecolor\": \"white\", \"showbackground\": true, \"ticks\": \"\", \"zerolinecolor\": \"white\"}, \"yaxis\": {\"backgroundcolor\": \"#E5ECF6\", \"gridcolor\": \"white\", \"gridwidth\": 2, \"linecolor\": \"white\", \"showbackground\": true, \"ticks\": \"\", \"zerolinecolor\": \"white\"}, \"zaxis\": {\"backgroundcolor\": \"#E5ECF6\", \"gridcolor\": \"white\", \"gridwidth\": 2, \"linecolor\": \"white\", \"showbackground\": true, \"ticks\": \"\", \"zerolinecolor\": \"white\"}}, \"shapedefaults\": {\"line\": {\"color\": \"#2a3f5f\"}}, \"ternary\": {\"aaxis\": {\"gridcolor\": \"white\", \"linecolor\": \"white\", \"ticks\": \"\"}, \"baxis\": {\"gridcolor\": \"white\", \"linecolor\": \"white\", \"ticks\": \"\"}, \"bgcolor\": \"#E5ECF6\", \"caxis\": {\"gridcolor\": \"white\", \"linecolor\": \"white\", \"ticks\": \"\"}}, \"title\": {\"x\": 0.05}, \"xaxis\": {\"automargin\": true, \"gridcolor\": \"white\", \"linecolor\": \"white\", \"ticks\": \"\", \"title\": {\"standoff\": 15}, \"zerolinecolor\": \"white\", \"zerolinewidth\": 2}, \"yaxis\": {\"automargin\": true, \"gridcolor\": \"white\", \"linecolor\": \"white\", \"ticks\": \"\", \"title\": {\"standoff\": 15}, \"zerolinecolor\": \"white\", \"zerolinewidth\": 2}}}, \"title\": {\"text\": \"Performance\", \"x\": 0.5}, \"width\": 1200, \"yaxis\": {\"tickformat\": \".2%\", \"title\": {\"text\": \"Portfolio Return\"}}},                        {\"responsive\": true}                    ).then(function(){\n",
       "                            \n",
       "var gd = document.getElementById('b749d762-a4f4-4f41-a9de-601114cb53c5');\n",
       "var x = new MutationObserver(function (mutations, observer) {{\n",
       "        var display = window.getComputedStyle(gd).display;\n",
       "        if (!display || display === 'none') {{\n",
       "            console.log([gd, 'removed!']);\n",
       "            Plotly.purge(gd);\n",
       "            observer.disconnect();\n",
       "        }}\n",
       "}});\n",
       "\n",
       "// Listen for the removal of the full notebook cells\n",
       "var notebookContainer = gd.closest('#notebook-container');\n",
       "if (notebookContainer) {{\n",
       "    x.observe(notebookContainer, {childList: true});\n",
       "}}\n",
       "\n",
       "// Listen for the clearing of the current output cell\n",
       "var outputEl = gd.closest('.output');\n",
       "if (outputEl) {{\n",
       "    x.observe(outputEl, {childList: true});\n",
       "}}\n",
       "\n",
       "                        })                };                });            </script>        </div>"
      ]
     },
     "metadata": {},
     "output_type": "display_data"
    }
   ],
   "source": [
    "perf_plot(port_df)"
   ]
  },
  {
   "cell_type": "code",
   "execution_count": 232,
   "metadata": {},
   "outputs": [],
   "source": [
    "fig_2 = px.scatter_3d(mod_dict[dates[11]], x = '12_month', y ='EBIT_EV', z = 'Spread', color = 'Clusters', hover_name=mod_dict[dates[11]].index, opacity = 0.8)\n",
    "fig_2.update_layout(\n",
    "        paper_bgcolor='white',\n",
    "        plot_bgcolor= 'white',\n",
    "        height = 950,\n",
    "        width = 740,\n",
    "        font = dict(family= 'pt sans narrow'),\n",
    "        title= {'text': \"Kmeans Clusters\", 'font':{'size':25}})\n",
    "    \n",
    "fig_2.update_traces(marker_coloraxis=None, marker=dict(size=4,\n",
    "                              line=dict(width=1)))\n",
    "    \n",
    "    \n",
    "pio.write_html(fig_2, file='clust.html', auto_open=True)"
   ]
  },
  {
   "cell_type": "code",
   "execution_count": 174,
   "metadata": {},
   "outputs": [],
   "source": [
    "t = mod_dict['2015-12-15']"
   ]
  },
  {
   "cell_type": "code",
   "execution_count": null,
   "metadata": {},
   "outputs": [],
   "source": []
  }
 ],
 "metadata": {
  "kernelspec": {
   "display_name": "Python 3",
   "language": "python",
   "name": "python3"
  },
  "language_info": {
   "codemirror_mode": {
    "name": "ipython",
    "version": 3
   },
   "file_extension": ".py",
   "mimetype": "text/x-python",
   "name": "python",
   "nbconvert_exporter": "python",
   "pygments_lexer": "ipython3",
   "version": "3.7.9"
  }
 },
 "nbformat": 4,
 "nbformat_minor": 4
}
