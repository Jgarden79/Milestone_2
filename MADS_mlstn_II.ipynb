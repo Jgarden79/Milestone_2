{
 "cells": [
  {
   "cell_type": "code",
   "execution_count": 2,
   "metadata": {},
   "outputs": [
    {
     "data": {
      "text/html": [
       "        <script type=\"text/javascript\">\n",
       "        window.PlotlyConfig = {MathJaxConfig: 'local'};\n",
       "        if (window.MathJax) {MathJax.Hub.Config({SVG: {font: \"STIX-Web\"}});}\n",
       "        if (typeof require !== 'undefined') {\n",
       "        require.undef(\"plotly\");\n",
       "        requirejs.config({\n",
       "            paths: {\n",
       "                'plotly': ['https://cdn.plot.ly/plotly-latest.min']\n",
       "            }\n",
       "        });\n",
       "        require(['plotly'], function(Plotly) {\n",
       "            window._Plotly = Plotly;\n",
       "        });\n",
       "        }\n",
       "        </script>\n",
       "        "
      ]
     },
     "metadata": {},
     "output_type": "display_data"
    },
    {
     "data": {
      "text/html": [
       "        <script type=\"text/javascript\">\n",
       "        window.PlotlyConfig = {MathJaxConfig: 'local'};\n",
       "        if (window.MathJax) {MathJax.Hub.Config({SVG: {font: \"STIX-Web\"}});}\n",
       "        if (typeof require !== 'undefined') {\n",
       "        require.undef(\"plotly\");\n",
       "        requirejs.config({\n",
       "            paths: {\n",
       "                'plotly': ['https://cdn.plot.ly/plotly-latest.min']\n",
       "            }\n",
       "        });\n",
       "        require(['plotly'], function(Plotly) {\n",
       "            window._Plotly = Plotly;\n",
       "        });\n",
       "        }\n",
       "        </script>\n",
       "        "
      ]
     },
     "metadata": {},
     "output_type": "display_data"
    }
   ],
   "source": [
    "import pandas as pd\n",
    "import numpy as np\n",
    "import eikon as ek\n",
    "import sys\n",
    "import config\n",
    "ek.set_app_key(config.eikon_key)\n",
    "import cufflinks as cf\n",
    "import configparser as cp\n",
    "cf.set_config_file(offline = True)\n",
    "from datetime import datetime\n",
    "from datetime import timedelta\n",
    "import DatastreamDSWS as DSWS\n",
    "ds = DSWS.Datastream(username = 'JGarden1@lidoadvisors.com', password= 'Welcome2')\n",
    "import warnings\n",
    "warnings.simplefilter(action='ignore', category=FutureWarning)\n",
    "\n"
   ]
  },
  {
   "cell_type": "code",
   "execution_count": 24,
   "metadata": {},
   "outputs": [],
   "source": [
    "def get_data_SECT_1():\n",
    "    '''Calls Data from Datastream web services and stores in a csv. This will not run without a Thomson Reuters \n",
    "    Terminal running as well as a subscription to both TR and DS'''\n",
    "    raw = ds.get_data(tickers='USSPRPER, TRUS10T, TRUS3MT, USCPCOREE, USUN%TOTQ, USCNFBUSQ, USNBERBCR, USPERCONB, USUMCONSH', start='BDATE', fields='X', freq='M').dropna()\n",
    "    raw = raw.droplevel(level = 1, axis = 1)\n",
    "    raw.columns=raw.columns.rename('')\n",
    "    clean = raw.rename(columns = {\"USSPRPER\": 'Valuation', ' TRUS10T': 'ten_yr', ' TRUS3MT': 'three_mth', ' USCPCOREE': 'Core_CPI',\n",
    "                                  ' USUN%TOTQ':'Unemployment',\n",
    "                                  ' USCNFBUSQ': 'PMI', ' USPERCONB': 'Personal Consump', ' USUMCONSH': 'UMICH Sent', ' USNBERBCR': 'Recession',})\n",
    "    clean.reset_index(inplace=True)\n",
    "    clean.to_csv('Section_1_DATA.csv')\n",
    "    return "
   ]
  },
  {
   "cell_type": "code",
   "execution_count": null,
   "metadata": {},
   "outputs": [],
   "source": []
  }
 ],
 "metadata": {
  "kernelspec": {
   "display_name": "Python 3",
   "language": "python",
   "name": "python3"
  },
  "language_info": {
   "codemirror_mode": {
    "name": "ipython",
    "version": 3
   },
   "file_extension": ".py",
   "mimetype": "text/x-python",
   "name": "python",
   "nbconvert_exporter": "python",
   "pygments_lexer": "ipython3",
   "version": "3.7.9"
  }
 },
 "nbformat": 4,
 "nbformat_minor": 4
}
